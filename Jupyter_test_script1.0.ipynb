{
 "cells": [
  {
   "cell_type": "code",
   "execution_count": 6,
   "metadata": {},
   "outputs": [
    {
     "data": {
      "text/plain": [
       "'C:\\\\Users\\\\justi\\\\Desktop\\\\Deaf Ed Viz\\\\python_scripts'"
      ]
     },
     "execution_count": 6,
     "metadata": {},
     "output_type": "execute_result"
    }
   ],
   "source": [
    "# Import `os` \n",
    "import os\n",
    "\n",
    "# Retrieve current working directory (`cwd`)\n",
    "cwd = os.getcwd()\n",
    "cwd\n"
   ]
  },
  {
   "cell_type": "code",
   "execution_count": 9,
   "metadata": {},
   "outputs": [],
   "source": [
    "# Import pandas\n",
    "import pandas as pd\n",
    "\n",
    "# Assign spreadsheet filename to `file`\n",
    "file = 'JRL_Data_Format_v2.0.xlsx'\n"
   ]
  },
  {
   "cell_type": "code",
   "execution_count": 10,
   "metadata": {},
   "outputs": [],
   "source": [
    "# Load spreadsheet\n",
    "xl = pd.ExcelFile(file)\n"
   ]
  },
  {
   "cell_type": "code",
   "execution_count": 11,
   "metadata": {},
   "outputs": [
    {
     "name": "stdout",
     "output_type": "stream",
     "text": [
      "['data']\n"
     ]
    }
   ],
   "source": [
    "# Print the sheet names\n",
    "print(xl.sheet_names)\n"
   ]
  },
  {
   "cell_type": "code",
   "execution_count": 13,
   "metadata": {},
   "outputs": [],
   "source": [
    "\n",
    "# Load a sheet into a DataFrame by name: df1\n",
    "df1 = xl.parse('data')"
   ]
  },
  {
   "cell_type": "code",
   "execution_count": 20,
   "metadata": {},
   "outputs": [
    {
     "data": {
      "text/html": [
       "<div>\n",
       "<style scoped>\n",
       "    .dataframe tbody tr th:only-of-type {\n",
       "        vertical-align: middle;\n",
       "    }\n",
       "\n",
       "    .dataframe tbody tr th {\n",
       "        vertical-align: top;\n",
       "    }\n",
       "\n",
       "    .dataframe thead th {\n",
       "        text-align: right;\n",
       "    }\n",
       "</style>\n",
       "<table border=\"1\" class=\"dataframe\">\n",
       "  <thead>\n",
       "    <tr style=\"text-align: right;\">\n",
       "      <th></th>\n",
       "      <th>ID</th>\n",
       "      <th>Sound</th>\n",
       "      <th>Manner</th>\n",
       "      <th>Formant</th>\n",
       "      <th>Start Freq (x1)</th>\n",
       "      <th>Start Power (y1)</th>\n",
       "      <th>End Freq (x2)</th>\n",
       "      <th>End Power (y2)</th>\n",
       "      <th>Comments</th>\n",
       "    </tr>\n",
       "  </thead>\n",
       "  <tbody>\n",
       "    <tr>\n",
       "      <th>0</th>\n",
       "      <td>1</td>\n",
       "      <td>ʧ</td>\n",
       "      <td>Fricative</td>\n",
       "      <td>F3</td>\n",
       "      <td>1500</td>\n",
       "      <td>37</td>\n",
       "      <td>2000</td>\n",
       "      <td>37</td>\n",
       "      <td>NaN</td>\n",
       "    </tr>\n",
       "    <tr>\n",
       "      <th>1</th>\n",
       "      <td>2</td>\n",
       "      <td>ʧ</td>\n",
       "      <td>Fricative</td>\n",
       "      <td>F4</td>\n",
       "      <td>4000</td>\n",
       "      <td>-25</td>\n",
       "      <td>5000</td>\n",
       "      <td>-25</td>\n",
       "      <td>NaN</td>\n",
       "    </tr>\n",
       "    <tr>\n",
       "      <th>2</th>\n",
       "      <td>3</td>\n",
       "      <td>f</td>\n",
       "      <td>Fricative</td>\n",
       "      <td>F4</td>\n",
       "      <td>4000</td>\n",
       "      <td>76</td>\n",
       "      <td>5000</td>\n",
       "      <td>76</td>\n",
       "      <td>NaN</td>\n",
       "    </tr>\n",
       "    <tr>\n",
       "      <th>3</th>\n",
       "      <td>4</td>\n",
       "      <td>h</td>\n",
       "      <td>Fricative</td>\n",
       "      <td>F3</td>\n",
       "      <td>1500</td>\n",
       "      <td>-14</td>\n",
       "      <td>2000</td>\n",
       "      <td>-14</td>\n",
       "      <td>NaN</td>\n",
       "    </tr>\n",
       "    <tr>\n",
       "      <th>4</th>\n",
       "      <td>5</td>\n",
       "      <td>s</td>\n",
       "      <td>Fricative</td>\n",
       "      <td>F4</td>\n",
       "      <td>5000</td>\n",
       "      <td>61</td>\n",
       "      <td>6000</td>\n",
       "      <td>61</td>\n",
       "      <td>NaN</td>\n",
       "    </tr>\n",
       "  </tbody>\n",
       "</table>\n",
       "</div>"
      ],
      "text/plain": [
       "   ID Sound     Manner Formant  Start Freq (x1)   Start Power (y1)  \\\n",
       "0   1     ʧ  Fricative      F3              1500                37   \n",
       "1   2     ʧ  Fricative      F4              4000               -25   \n",
       "2   3     f  Fricative      F4              4000                76   \n",
       "3   4     h  Fricative      F3              1500               -14   \n",
       "4   5     s  Fricative      F4              5000                61   \n",
       "\n",
       "   End Freq (x2)   End Power (y2) Comments  \n",
       "0            2000              37      NaN  \n",
       "1            5000             -25      NaN  \n",
       "2            5000              76      NaN  \n",
       "3            2000             -14      NaN  \n",
       "4            6000              61      NaN  "
      ]
     },
     "execution_count": 20,
     "metadata": {},
     "output_type": "execute_result"
    }
   ],
   "source": [
    "df1.head()\n",
    "#df1['Sound']"
   ]
  },
  {
   "cell_type": "code",
   "execution_count": 33,
   "metadata": {},
   "outputs": [
    {
     "data": {
      "text/plain": [
       "Text(0.5,1,'Fricative')"
      ]
     },
     "execution_count": 33,
     "metadata": {},
     "output_type": "execute_result"
    },
    {
     "data": {
      "image/png": "[encoded data removed]",
      "text/plain": [
       "<matplotlib.figure.Figure at 0x2035eea6470>"
      ]
     },
     "metadata": {},
     "output_type": "display_data"
    }
   ],
   "source": [
    "import matplotlib.pyplot as plt\n",
    "plt.plot([1500, 2000], [37, 37],[4000, 5000], [37, 37])\n",
    "plt.ylabel('Power (db)')\n",
    "plt.xlabel('Frequency (Hz)')\n",
    "plt.axis([100, 6000, -25, 100])\n",
    "plt.title(\"Fricative\")\n",
    "\n",
    "#plt.show()"
   ]
  },
  {
   "cell_type": "code",
   "execution_count": null,
   "metadata": {},
   "outputs": [],
   "source": []
  }
 ],
 "metadata": {
  "kernelspec": {
   "display_name": "Python 3",
   "language": "python",
   "name": "python3"
  },
  "language_info": {
   "codemirror_mode": {
    "name": "ipython",
    "version": 3
   },
   "file_extension": ".py",
   "mimetype": "text/x-python",
   "name": "python",
   "nbconvert_exporter": "python",
   "pygments_lexer": "ipython3",
   "version": "3.6.4"
  }
 },
 "nbformat": 4,
 "nbformat_minor": 2
}
